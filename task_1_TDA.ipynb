{
  "nbformat": 4,
  "nbformat_minor": 0,
  "metadata": {
    "colab": {
      "provenance": []
    },
    "kernelspec": {
      "name": "python3",
      "display_name": "Python 3"
    },
    "language_info": {
      "name": "python"
    }
  },
  "cells": [
    {
      "cell_type": "code",
      "execution_count": 2,
      "metadata": {
        "colab": {
          "base_uri": "https://localhost:8080/"
        },
        "id": "t6bF5rTBSRJw",
        "outputId": "7f2657a4-c355-4043-c1ca-721a3686f804"
      },
      "outputs": [
        {
          "output_type": "stream",
          "name": "stdout",
          "text": [
            "The name of the second student is: Bob\n"
          ]
        }
      ],
      "source": [
        "# Task 1\n",
        "# Step 1: Import the necessary library for working with JSON data.\n",
        "import json\n",
        "\n",
        "# Step 2: Load the students.json file into Python.\n",
        "# The file contains information about students in JSON format.\n",
        "with open('students.json', 'r') as file:\n",
        "    students_data = json.load(file)  # Parse the JSON data into a Python dictionary.\n",
        "\n",
        "# Step 3: Access the specific part of the data to retrieve the name of the second student.\n",
        "# The data structure is a list of student dictionaries, so we use index 1 for the second student.\n",
        "second_student_name = students_data[\"students\"][1][\"name\"]  # Retrieve the \"name\" field of the second student.\n",
        "\n",
        "# Step 4: Display the name of the second student.\n",
        "print(f\"The name of the second student is: {second_student_name}\")"
      ]
    }
  ]
}