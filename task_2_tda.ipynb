{
  "nbformat": 4,
  "nbformat_minor": 0,
  "metadata": {
    "colab": {
      "provenance": []
    },
    "kernelspec": {
      "name": "python3",
      "display_name": "Python 3"
    },
    "language_info": {
      "name": "python"
    }
  },
  "cells": [
    {
      "cell_type": "code",
      "execution_count": 1,
      "metadata": {
        "colab": {
          "base_uri": "https://localhost:8080/"
        },
        "id": "MBj97pOES475",
        "outputId": "489ab0c5-5931-4665-bf30-94557f9a6f3b"
      },
      "outputs": [
        {
          "output_type": "stream",
          "name": "stdout",
          "text": [
            "The geonameId of the first record is: 2643743\n"
          ]
        }
      ],
      "source": [
        "# Task 2\n",
        "# Step 1: Import the requests library to make HTTP requests.\n",
        "import requests\n",
        "\n",
        "# Step 2: Define the base URL and parameters for the Geonames API query.\n",
        "# The API retrieves nearby place information using longitude and latitude.\n",
        "base_url = \"http://api.geonames.org/findNearbyPlaceNameJSON\"\n",
        "params = {\n",
        "    \"lat\": 51.5074,  # Latitude for London.\n",
        "    \"lng\": -0.1278,  # Longitude for London.\n",
        "    \"username\": \"patthub\"  # Username required to authenticate the API request.\n",
        "}\n",
        "\n",
        "# Step 3: Send the request to the API using the defined URL and parameters.\n",
        "response = requests.get(base_url, params=params)\n",
        "\n",
        "# Step 4: Parse the response data as JSON.\n",
        "data = response.json()\n",
        "\n",
        "# Step 5: Check if the response contains the 'geonames' field and retrieve the geonameId of the first record.\n",
        "if \"geonames\" in data and len(data[\"geonames\"]) > 0:\n",
        "    first_geoname_id = data[\"geonames\"][0][\"geonameId\"]  # Extract the geonameId field.\n",
        "    print(f\"The geonameId of the first record is: {first_geoname_id}\")  # Display the extracted geonameId.\n",
        "else:\n",
        "    print(\"No geonames data found.\")  # Handle cases where the response does not contain the expected data."
      ]
    }
  ]
}